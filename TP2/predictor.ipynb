{
 "cells": [
  {
   "cell_type": "markdown",
   "metadata": {},
   "source": [
    "# Predicción lineal"
   ]
  },
  {
   "cell_type": "markdown",
   "metadata": {},
   "source": [
    " En la figura se observa un filtro forward predictor con una estructura FIR"
   ]
  },
  {
   "cell_type": "markdown",
   "metadata": {},
   "source": [
    "<img src=\"predictor.png\" alt=\"Predictor lineal\"/>"
   ]
  },
  {
   "cell_type": "markdown",
   "metadata": {},
   "source": [
    "Las entradas a los taps son $u(i-1), u(i-2), ..., u(i-M)$. La idea de este filtro es predecir el valor siguiente de la señal $u(i)$, denotado $\\hat{u}(i)$."
   ]
  },
  {
   "cell_type": "markdown",
   "metadata": {},
   "source": [
    "El objetivo es encontrar el vector de taps *${\\hat{w}}$* que minimice la suma cuadrática de los errores de predicción, $e_f$"
   ]
  },
  {
   "cell_type": "markdown",
   "metadata": {},
   "source": [
    "$$e_f = \\sum_{i=M+1}^{N} \\left|f_M(i)\\right|^2$$"
   ]
  },
  {
   "cell_type": "markdown",
   "metadata": {},
   "source": [
    "#### Encontrar:\n",
    "\n",
    "1. La matriz de $M$ por $M$ de correlación los taps de entrada \n",
    "\n",
    "2. El vector de correlación cruzada $M$ por $1$ entre los taps de entrada del predictor y la respuesta deseada $u(i)$ \n",
    "\n",
    "3. El valor mínimo de $e_f$\n",
    "\n",
    "4. El vector de taps *${\\hat{w}}$*\n",
    "\n",
    "5. Una vez obtenida la ecuación del filtro predictor, calcular el filtro para $N$ valores de una realización de la siguiente señal:\n",
    "\n",
    "$$u(i) = sen(2\\pi\\omega_0i + \\phi_0) + 0.02n(i)$$\n",
    "\n",
    "siendo $\\omega_0 = 3, \\phi_0 = \\pi / 4$ y $n(i)$ un ruido gaussiano de varianza unitaria. Tomar N = 100 y M = 4\n",
    "\n",
    "6. Ver cómo se comporta el filtro (es decir, su capacidad de predicción) para otras realizaciones del mismo proceso."
   ]
  },
  {
   "cell_type": "markdown",
   "metadata": {},
   "source": [
    "#### Consejos orientativos:\n",
    "* Pensar a $N$ como un valor mayor a $M$. Es decir, $N$ representa la cantidad TOTAL de puntos de $u(i)$ y $M$ es la cantidad de taps del filtro. En un momento dado, hay $M$ puntos de $u(i)$ dentro del filtro.\n",
    "* Podemos pensar que el primer valor válido de $u$ es $u(1)$, es decir la secuencia empieza $u(1), u(2), \\dots ,u(N)$\n",
    "* El filtro produce resultados desde $i = M+1$ hasta $i = N$, es decir, $N-M$ predicciones.\n",
    "* Al ser las señales reales, los valores hermíticos de los vectores o matrices son los traspuestos.\n",
    "* Para multiplicación de matrices, utilizar @. Por ejemplo:"
   ]
  },
  {
   "cell_type": "code",
   "execution_count": 29,
   "metadata": {},
   "outputs": [
    {
     "data": {
      "text/plain": [
       "array([16, 13])"
      ]
     },
     "execution_count": 29,
     "metadata": {},
     "output_type": "execute_result"
    }
   ],
   "source": [
    "import numpy as np\n",
    "a = np.array([[1,2,3],[2,3,1]])\n",
    "b = np.array([-1,4,3])\n",
    "c = a @ b\n",
    "c"
   ]
  },
  {
   "cell_type": "markdown",
   "metadata": {},
   "source": [
    "# Resolución\n",
    "\n",
    "Nota: En Filtrado.pdf (pag. 27) se expresa la forma de la matriz que se debe generar de acuerdo a un vector dado con las señales de entrada.\n",
    "La señal de entrada se denomina ‘u’ y tiene ‘n’ coeficientes.\n",
    "El objetivo es estimar cuál es el filtro que hace que los ‘n’ coeficientes de ‘u’ entreguen la mejor aproximación por un filtro lineal de nuestra señal deseada ‘d’ (que debemos conocer). Este filtro representa el caso general, filtro adaptativo, y en el TP1 vimos el filtro adaptado determinista que es un caso especial a partir de este. Cabe aclarar que este no es el filtro de winner porque para calcularlo necesito conocer la estadistica de la señal de entrada y la correlación cruzada con la señal deseada.\n",
    "\n",
    "Por convenencia se define una matriz A hermitica (transpuesta y conjugada) que se arma con los N vectores de entrada que vamos teniendo en el primer vector que ya esta cargado en el filtro, que va desde el u(M) hasta el u(1).\n",
    "Cuando pasa un tiempo tenemos el segundo vector columna con u(M+1) hasta u(2).. el último va desde u(N) hasta (N-M+1)\n",
    "\n",
    "Ejemplo:\n",
    "Para el vector u = [3, 2, 1, -1]\n",
    "Definiendo M = 2 (cantidad de taps del filtro)\n",
    "\n",
    "La matriz correspondiente es la siguiente:\n",
    "\n",
    "instante 1\tinstante 2\tinstante 3<br/>\n",
    "u2=2\t\tu3=1\t\tu4=-1<br/>\n",
    "u1=3\t\tu2=2\t\tu3=1<br/>\n",
    "\n",
    "M establece la cantidad de filas de la matriz y la cantidad de columnas esta dada por: (Cantidad de muestras) - (cantidad de taps del filtro) + 1"
   ]
  },
  {
   "cell_type": "markdown",
   "metadata": {},
   "source": [
    "### 1) Encontrar la matriz de M por N de correlación los taps de entrada"
   ]
  },
  {
   "cell_type": "code",
   "execution_count": 30,
   "metadata": {},
   "outputs": [
    {
     "data": {
      "text/plain": [
       "array([[ 2.,  1., -1.],\n",
       "       [ 3.,  2.,  1.]])"
      ]
     },
     "execution_count": 30,
     "metadata": {},
     "output_type": "execute_result"
    }
   ],
   "source": [
    "u = [3, 2, 1, -1] # vector de ejemplo \n",
    "N = 4 # elementos del vector\n",
    "M = 2 # cantidad de taps del filtro\n",
    "\n",
    "matriz = np.zeros((M, N-M+1))\n",
    "for i in range(N-M+1):\n",
    "    instante = u[i:M+i]\n",
    "    matriz[:,i] = instante[::-1]\n",
    "\n",
    "matriz"
   ]
  },
  {
   "cell_type": "code",
   "execution_count": 31,
   "metadata": {},
   "outputs": [
    {
     "data": {
      "text/plain": [
       "array([[ 2.,  3.],\n",
       "       [ 1.,  2.],\n",
       "       [-1.,  1.]])"
      ]
     },
     "execution_count": 31,
     "metadata": {},
     "output_type": "execute_result"
    }
   ],
   "source": [
    "#Al ser valores reales, la hermítica es directamente la traspuesta (no hace falta conjugar los valores).\n",
    "hermitica = matriz.transpose()  \n",
    "\n",
    "hermitica\n"
   ]
  },
  {
   "cell_type": "markdown",
   "metadata": {},
   "source": [
    "### 2) El vector de correlación cruzada  𝑀  por  1  entre los taps de entrada del predictor y la respuesta deseada  𝑢(𝑖)"
   ]
  },
  {
   "cell_type": "code",
   "execution_count": 32,
   "metadata": {},
   "outputs": [],
   "source": [
    "d = np.array([ 2, 1, 1/34  ]) # vector deseado de ejemplo\n",
    "dh = d.transpose() # no funciona...\n",
    "\n",
    "#El vector z es la matriz hermítica por el vector de la respuesta deseada\n",
    "#z = hermitica @ dh\n",
    "#z"
   ]
  },
  {
   "cell_type": "markdown",
   "metadata": {},
   "source": [
    "### 3) El valor mínimo de  𝑒𝑓"
   ]
  },
  {
   "cell_type": "code",
   "execution_count": 33,
   "metadata": {},
   "outputs": [
    {
     "ename": "ValueError",
     "evalue": "shapes (3,) and (2,3) not aligned: 3 (dim 0) != 2 (dim 0)",
     "output_type": "error",
     "traceback": [
      "\u001b[1;31m---------------------------------------------------------------------------\u001b[0m",
      "\u001b[1;31mValueError\u001b[0m                                Traceback (most recent call last)",
      "\u001b[1;32m<ipython-input-33-8350f07e7b6c>\u001b[0m in \u001b[0;36m<module>\u001b[1;34m\u001b[0m\n\u001b[0;32m      2\u001b[0m \u001b[1;33m\u001b[0m\u001b[0m\n\u001b[0;32m      3\u001b[0m \u001b[1;31m#El minimo error cuadratico medio entre la senial obtenida y la deseada esta determinado por la sig formula:\u001b[0m\u001b[1;33m\u001b[0m\u001b[1;33m\u001b[0m\u001b[1;33m\u001b[0m\u001b[0m\n\u001b[1;32m----> 4\u001b[1;33m \u001b[0mEmin\u001b[0m \u001b[1;33m=\u001b[0m \u001b[0mdh\u001b[0m \u001b[1;33m@\u001b[0m \u001b[0md\u001b[0m  \u001b[1;33m-\u001b[0m  \u001b[0mdh\u001b[0m \u001b[1;33m@\u001b[0m \u001b[0mmatriz\u001b[0m \u001b[1;33m@\u001b[0m \u001b[0mnp\u001b[0m\u001b[1;33m.\u001b[0m\u001b[0mlinalg\u001b[0m\u001b[1;33m.\u001b[0m\u001b[0minv\u001b[0m\u001b[1;33m(\u001b[0m\u001b[0mhermitica\u001b[0m \u001b[1;33m@\u001b[0m \u001b[0mmatriz\u001b[0m\u001b[1;33m)\u001b[0m \u001b[1;33m@\u001b[0m \u001b[0mhermitica\u001b[0m \u001b[1;33m@\u001b[0m \u001b[0md\u001b[0m\u001b[1;33m\u001b[0m\u001b[1;33m\u001b[0m\u001b[0m\n\u001b[0m",
      "\u001b[1;31mValueError\u001b[0m: shapes (3,) and (2,3) not aligned: 3 (dim 0) != 2 (dim 0)"
     ]
    }
   ],
   "source": [
    "#Existe un error de aproximación generado en la señal al analizarla y es blanco, afecta por igual, y es aditivo.\n",
    "\n",
    "#El minimo error cuadratico medio entre la senial obtenida y la deseada esta determinado por la sig formula:\n",
    "Emin = dh @ d  -  dh @ matriz @ np.linalg.inv(hermitica @ matriz) @ hermitica @ d\n"
   ]
  },
  {
   "cell_type": "markdown",
   "metadata": {},
   "source": [
    "### 4) El vector de taps  𝑤̂ "
   ]
  },
  {
   "cell_type": "code",
   "execution_count": null,
   "metadata": {},
   "outputs": [],
   "source": [
    "# El vector de taps esta determinado por la sig formula:\n",
    "w = np.linalg.inv(hermitica @ matriz) @ hermitica @ d"
   ]
  },
  {
   "cell_type": "markdown",
   "metadata": {},
   "source": [
    "### 5) Calcular el filtro para  𝑁  valores de una realización de la señal 𝑢(𝑖)=𝑠𝑒𝑛(2𝜋𝜔0𝑖+𝜙0)+0.02𝑛(𝑖) siendo  𝜔0=3,𝜙0=𝜋/4  y  𝑛(𝑖)  un ruido gaussiano de varianza unitaria. Tomar N = 100 y M = 4."
   ]
  },
  {
   "cell_type": "markdown",
   "metadata": {},
   "source": [
    "### 6) Ver cómo se comporta el filtro (es decir, su capacidad de predicción) para otras realizaciones del mismo proceso."
   ]
  },
  {
   "cell_type": "code",
   "execution_count": null,
   "metadata": {},
   "outputs": [],
   "source": []
  }
 ],
 "metadata": {
  "kernelspec": {
   "display_name": "Python 3",
   "language": "python",
   "name": "python3"
  },
  "language_info": {
   "codemirror_mode": {
    "name": "ipython",
    "version": 3
   },
   "file_extension": ".py",
   "mimetype": "text/x-python",
   "name": "python",
   "nbconvert_exporter": "python",
   "pygments_lexer": "ipython3",
   "version": "3.7.1"
  }
 },
 "nbformat": 4,
 "nbformat_minor": 2
}
