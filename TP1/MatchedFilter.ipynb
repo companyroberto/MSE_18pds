{
 "cells": [
  {
   "cell_type": "markdown",
   "metadata": {
    "slideshow": {
     "slide_type": "slide"
    }
   },
   "source": [
    "# Práctica básica de filtro adaptado"
   ]
  },
  {
   "cell_type": "markdown",
   "metadata": {
    "slideshow": {
     "slide_type": "fragment"
    }
   },
   "source": [
    "En esta práctica usaremos:"
   ]
  },
  {
   "cell_type": "code",
   "execution_count": 1,
   "metadata": {
    "slideshow": {
     "slide_type": "fragment"
    }
   },
   "outputs": [],
   "source": [
    "import numpy as np\n",
    "import scipy.signal as sp\n",
    "import matplotlib.pyplot as plt"
   ]
  },
  {
   "cell_type": "markdown",
   "metadata": {
    "slideshow": {
     "slide_type": "subslide"
    }
   },
   "source": [
    "## Generación de la señal de prueba\n",
    "La idea es comparar la performance de un filtro cualquiera (LP, BP, o HP) contra el filtro adaptado. Para ello generaremos una señal que podamos procesar con ambos."
   ]
  },
  {
   "cell_type": "markdown",
   "metadata": {
    "slideshow": {
     "slide_type": "fragment"
    }
   },
   "source": [
    "Conformaremos la señal con una parte conocida (_header_) y otra parte totalmente aleatoria que hace las veces de información útil (_payload_)."
   ]
  },
  {
   "cell_type": "markdown",
   "metadata": {
    "slideshow": {
     "slide_type": "subslide"
    }
   },
   "source": [
    "El header serán 16 bytes `0xAC` (10101100):"
   ]
  },
  {
   "cell_type": "code",
   "execution_count": 2,
   "metadata": {
    "slideshow": {
     "slide_type": "fragment"
    }
   },
   "outputs": [],
   "source": [
    "header = [1, 0, 1, 0, 1, 1, 0, 0] * 16"
   ]
  },
  {
   "cell_type": "markdown",
   "metadata": {
    "slideshow": {
     "slide_type": "fragment"
    }
   },
   "source": [
    "Los bits de información los generaremos aleatoriamente para simular información útil, aunque utilizaremos una semilla determinada para poder repetir los experimentos."
   ]
  },
  {
   "cell_type": "code",
   "execution_count": 3,
   "metadata": {
    "slideshow": {
     "slide_type": "fragment"
    }
   },
   "outputs": [],
   "source": [
    "np.random.seed(42)\n",
    "info = np.random.randint(0, 2, 1500)"
   ]
  },
  {
   "cell_type": "markdown",
   "metadata": {
    "slideshow": {
     "slide_type": "fragment"
    }
   },
   "source": [
    "Finalmente, los bits de la señal completa son:"
   ]
  },
  {
   "cell_type": "code",
   "execution_count": 4,
   "metadata": {
    "slideshow": {
     "slide_type": "fragment"
    }
   },
   "outputs": [],
   "source": [
    "bits = np.concatenate((header, info))"
   ]
  },
  {
   "cell_type": "markdown",
   "metadata": {
    "slideshow": {
     "slide_type": "subslide"
    }
   },
   "source": [
    "### Modulación y efecto del canal"
   ]
  },
  {
   "cell_type": "markdown",
   "metadata": {
    "slideshow": {
     "slide_type": "fragment"
    }
   },
   "source": [
    "La modulación constará simplemente en envíar un pulso positivo (1) o negativo (-1) según los bis sean `0` ó `1` respectivamente. "
   ]
  },
  {
   "cell_type": "code",
   "execution_count": 5,
   "metadata": {
    "slideshow": {
     "slide_type": "fragment"
    }
   },
   "outputs": [],
   "source": [
    "data = np.where(bits != 0, 1, -1)"
   ]
  },
  {
   "cell_type": "markdown",
   "metadata": {
    "slideshow": {
     "slide_type": "fragment"
    }
   },
   "source": [
    "Ahora consideremos los efectos del canal..."
   ]
  },
  {
   "cell_type": "markdown",
   "metadata": {
    "slideshow": {
     "slide_type": "subslide"
    }
   },
   "source": [
    "Lo primero es considerar que el canal posee mútilpes trayectorias por lo que a nuestro \"receptor\" llegarían N copias de la señal retardadas, por ejemplo podría ser el siguiente caso:\n",
    "![multipath](img/Multipath.png \"Un escenario de ejemplo de multipath\")\n"
   ]
  },
  {
   "cell_type": "markdown",
   "metadata": {
    "slideshow": {
     "slide_type": "subslide"
    }
   },
   "source": [
    "Para ello, en este caso sencillo modelaremos al canal como una suma de 20 copias de cada símbolo retrasadas en una muestra, con una amplitud decreciente exponencial. Es decir entre símbolo y símbolo tendremos 20 ecos (conocidos como _TAPs_ del canal). "
   ]
  },
  {
   "cell_type": "code",
   "execution_count": 6,
   "metadata": {
    "slideshow": {
     "slide_type": "fragment"
    }
   },
   "outputs": [
    {
     "data": {
      "image/png": "[encoded data removed]",
      "text/plain": [
       "<Figure size 432x288 with 1 Axes>"
      ]
     },
     "metadata": {
      "needs_background": "light"
     },
     "output_type": "display_data"
    }
   ],
   "source": [
    "tpulse = np.linspace(-1, 1, 2*10, endpoint=False)\n",
    "pulse = sp.exponential(40)[20::]\n",
    "plt.figure('Pulso (respuesta del canal)')\n",
    "_ = plt.stem(pulse)"
   ]
  },
  {
   "cell_type": "markdown",
   "metadata": {
    "slideshow": {
     "slide_type": "subslide"
    }
   },
   "source": [
    "Ahora armaremos la señal con el efecto del _multipath_:"
   ]
  },
  {
   "cell_type": "code",
   "execution_count": 7,
   "metadata": {
    "slideshow": {
     "slide_type": "fragment"
    }
   },
   "outputs": [],
   "source": [
    "signal = np.zeros(len(data)*len(pulse))\n",
    "signal[10::20] = data[:]  # Se agrega un offset para que luego de la convolución, el primer pulso comience en 0\n",
    "signal = np.convolve(signal, pulse, mode='same')"
   ]
  },
  {
   "cell_type": "markdown",
   "metadata": {
    "slideshow": {
     "slide_type": "fragment"
    }
   },
   "source": [
    "Lo que, por ejemplo, para el primer byte da:"
   ]
  },
  {
   "cell_type": "code",
   "execution_count": 8,
   "metadata": {
    "slideshow": {
     "slide_type": "fragment"
    }
   },
   "outputs": [
    {
     "data": {
      "image/png": "[encoded data removed]",
      "text/plain": [
       "<Figure size 432x288 with 1 Axes>"
      ]
     },
     "metadata": {
      "needs_background": "light"
     },
     "output_type": "display_data"
    }
   ],
   "source": [
    "_ = plt.plot(signal[:160])"
   ]
  },
  {
   "cell_type": "markdown",
   "metadata": {
    "slideshow": {
     "slide_type": "subslide"
    }
   },
   "source": [
    "Ahra bien, para terminar de simular los efectos de un canal real y el hardware de un receptor se agrega ruido AWG y un offset de continua:"
   ]
  },
  {
   "cell_type": "code",
   "execution_count": 9,
   "metadata": {
    "slideshow": {
     "slide_type": "fragment"
    }
   },
   "outputs": [],
   "source": [
    "DC_offset = 1.5\n",
    "Noise_PW = 0.5\n",
    "noise = np.random.randn(len(signal))*Noise_PW\n",
    "signal = signal + noise + DC_offset"
   ]
  },
  {
   "cell_type": "markdown",
   "metadata": {
    "slideshow": {
     "slide_type": "subslide"
    }
   },
   "source": [
    "Lo que resulta para el primer byte:"
   ]
  },
  {
   "cell_type": "code",
   "execution_count": 10,
   "metadata": {
    "slideshow": {
     "slide_type": "fragment"
    }
   },
   "outputs": [
    {
     "data": {
      "image/png": "[encoded data removed]",
      "text/plain": [
       "<Figure size 432x288 with 1 Axes>"
      ]
     },
     "metadata": {
      "needs_background": "light"
     },
     "output_type": "display_data"
    }
   ],
   "source": [
    "_ = plt.plot(signal[:20*8])"
   ]
  },
  {
   "cell_type": "markdown",
   "metadata": {
    "slideshow": {
     "slide_type": "slide"
    }
   },
   "source": [
    "## Filtrado de la señal"
   ]
  },
  {
   "cell_type": "markdown",
   "metadata": {
    "slideshow": {
     "slide_type": "subslide"
    }
   },
   "source": [
    "### Filtro LP:"
   ]
  },
  {
   "cell_type": "markdown",
   "metadata": {
    "slideshow": {
     "slide_type": "fragment"
    }
   },
   "source": [
    "Definimos un filtro LP genérico en función del espectro del pulso envíado:"
   ]
  },
  {
   "cell_type": "code",
   "execution_count": 11,
   "metadata": {
    "slideshow": {
     "slide_type": "fragment"
    }
   },
   "outputs": [
    {
     "data": {
      "image/png": "[encoded data removed]",
      "text/plain": [
       "<Figure size 432x288 with 1 Axes>"
      ]
     },
     "metadata": {
      "needs_background": "light"
     },
     "output_type": "display_data"
    }
   ],
   "source": [
    "_ = plt.stem(abs(np.fft.fft(pulse))[0:len(pulse)//2])"
   ]
  },
  {
   "cell_type": "markdown",
   "metadata": {
    "slideshow": {
     "slide_type": "subslide"
    }
   },
   "source": [
    "Del espectro de la figura anterior, un posible criterio sería filtrar a partir de la frecuencia en que los coeficientes caen por debajo del valor medio entre el máximo y el mínimo ($\\sim 0.65$). Lo que aproximadamente daría una frecuencia de corte de $0.3 \\cdot f_{nyq}$."
   ]
  },
  {
   "cell_type": "code",
   "execution_count": 12,
   "metadata": {
    "slideshow": {
     "slide_type": "fragment"
    }
   },
   "outputs": [],
   "source": [
    "lpFilter = sp.firwin(len(pulse), 0.3, window= \"boxcar\")"
   ]
  },
  {
   "cell_type": "markdown",
   "metadata": {
    "slideshow": {
     "slide_type": "subslide"
    }
   },
   "source": [
    "Filtrando la señal con dicho filtro tenemos:"
   ]
  },
  {
   "cell_type": "code",
   "execution_count": 13,
   "metadata": {
    "slideshow": {
     "slide_type": "fragment"
    }
   },
   "outputs": [
    {
     "data": {
      "image/png": "[encoded data removed]",
      "text/plain": [
       "<Figure size 432x288 with 1 Axes>"
      ]
     },
     "metadata": {
      "needs_background": "light"
     },
     "output_type": "display_data"
    }
   ],
   "source": [
    "filteredSignalApprox = np.convolve(lpFilter, signal, mode='same')\n",
    "_ = plt.plot(filteredSignalApprox[0:20*8])"
   ]
  },
  {
   "cell_type": "markdown",
   "metadata": {
    "slideshow": {
     "slide_type": "subslide"
    }
   },
   "source": [
    "Ahora, deberemos submestrear, para ello debemos \"resincronizarnos\" con el resultado de la convolución. Del gráfico podemos ver que el primer pulso no está en cero, sino que el pulso está en el índice:"
   ]
  },
  {
   "cell_type": "code",
   "execution_count": 14,
   "metadata": {
    "slideshow": {
     "slide_type": "fragment"
    }
   },
   "outputs": [
    {
     "name": "stdout",
     "output_type": "stream",
     "text": [
      "Índice inicial:4\n"
     ]
    }
   ],
   "source": [
    "startSample = filteredSignalApprox[:20].argmax()\n",
    "print(\"Índice inicial:{0!s}\".format(startSample))"
   ]
  },
  {
   "cell_type": "markdown",
   "metadata": {
    "slideshow": {
     "slide_type": "fragment"
    }
   },
   "source": [
    "Por lo que la señal submuestreada se obtiene comenzando por el índice obtenido"
   ]
  },
  {
   "cell_type": "code",
   "execution_count": 15,
   "metadata": {
    "slideshow": {
     "slide_type": "fragment"
    }
   },
   "outputs": [],
   "source": [
    "filteredDataApprox = filteredSignalApprox[startSample::len(pulse)]"
   ]
  },
  {
   "cell_type": "markdown",
   "metadata": {
    "slideshow": {
     "slide_type": "subslide"
    }
   },
   "source": [
    "Finalmente, ahora debemos decidir si cada valor es un bit `1` o bit `0`. Un criterio, por ejemplo, sería elegir un umbral según lo que vemos en el gráfico de aproximadamente $\\sim 1.5$."
   ]
  },
  {
   "cell_type": "code",
   "execution_count": 16,
   "metadata": {
    "slideshow": {
     "slide_type": "fragment"
    }
   },
   "outputs": [],
   "source": [
    "filteredBitsApprox = np.where(filteredDataApprox > 1.5, 1, 0)"
   ]
  },
  {
   "cell_type": "markdown",
   "metadata": {
    "slideshow": {
     "slide_type": "fragment"
    }
   },
   "source": [
    "Por último para esta sección, podemos estimar la tasa de bits errados utilizando el header:"
   ]
  },
  {
   "cell_type": "code",
   "execution_count": 17,
   "metadata": {
    "slideshow": {
     "slide_type": "fragment"
    }
   },
   "outputs": [
    {
     "name": "stdout",
     "output_type": "stream",
     "text": [
      "Bit Error Rate: 0.3046875\n"
     ]
    }
   ],
   "source": [
    "BER_LP = (header != filteredBitsApprox[:8*16]).sum()/len(header)\n",
    "print(\"Bit Error Rate: {0!s}\".format(BER_LP))"
   ]
  },
  {
   "cell_type": "markdown",
   "metadata": {
    "slideshow": {
     "slide_type": "subslide"
    }
   },
   "source": [
    "### Filtro adaptado"
   ]
  },
  {
   "cell_type": "markdown",
   "metadata": {
    "slideshow": {
     "slide_type": "fragment"
    }
   },
   "source": [
    "Para obtener la solución óptima sabemos que el mejor filtro es aquel cuya respuesta impulsiva es idéntica a la de la señal invertida en el tiempo. Por ello, podemos filtrar directamente la señal haciendo:"
   ]
  },
  {
   "cell_type": "code",
   "execution_count": 18,
   "metadata": {
    "slideshow": {
     "slide_type": "fragment"
    }
   },
   "outputs": [
    {
     "data": {
      "image/png": "[encoded data removed]",
      "text/plain": [
       "<Figure size 432x288 with 1 Axes>"
      ]
     },
     "metadata": {
      "needs_background": "light"
     },
     "output_type": "display_data"
    }
   ],
   "source": [
    "filteredSignal = np.convolve(pulse[::-1], signal, mode='same')\n",
    "_ = plt.plot(filteredSignal[0:20*8])"
   ]
  },
  {
   "cell_type": "markdown",
   "metadata": {
    "slideshow": {
     "slide_type": "subslide"
    }
   },
   "source": [
    "Aunque parezca más \"ruidosa\", el valor de la señal en el lugar donde el filtro está cargado con una copia del pulso, tiene un valor más exacto que el filtro anterior. De hecho, para el ruido insertado, es el más exacto que se puede obtener."
   ]
  },
  {
   "cell_type": "markdown",
   "metadata": {
    "slideshow": {
     "slide_type": "fragment"
    }
   },
   "source": [
    "Ahora debemos submuestrear (de nuevo teniendo en cuenta \"resincronizarnos\"):"
   ]
  },
  {
   "cell_type": "code",
   "execution_count": 19,
   "metadata": {
    "slideshow": {
     "slide_type": "fragment"
    }
   },
   "outputs": [],
   "source": [
    "filteredData = filteredSignal[int(len(pulse)//2)+1::len(pulse)]"
   ]
  },
  {
   "cell_type": "markdown",
   "metadata": {
    "slideshow": {
     "slide_type": "subslide"
    }
   },
   "source": [
    "Finalmente debemos decidir por `1` ó `0`. Pero ahora usaremos lo que sabemos de teoría de detección para definir el umbral óptimo."
   ]
  },
  {
   "cell_type": "markdown",
   "metadata": {
    "slideshow": {
     "slide_type": "fragment"
    }
   },
   "source": [
    "Sabemos que éste se da en el punto donde las funciones de distribución de probabilidad se cruzan. Dado que en este caso ambos bits son equiprobables y el ruido es el mismo para ambos, podemos estimar este nivel simplemente calculando la media de los valores recibidos (\"centro de masa\"):"
   ]
  },
  {
   "cell_type": "code",
   "execution_count": 20,
   "metadata": {
    "slideshow": {
     "slide_type": "fragment"
    }
   },
   "outputs": [],
   "source": [
    "filteredBits = np.where(filteredData > filteredData.mean(), 1, 0)"
   ]
  },
  {
   "cell_type": "markdown",
   "metadata": {
    "slideshow": {
     "slide_type": "subslide"
    }
   },
   "source": [
    "Finalmente la tasa de bits errados en el header es:"
   ]
  },
  {
   "cell_type": "code",
   "execution_count": 21,
   "metadata": {
    "slideshow": {
     "slide_type": "fragment"
    }
   },
   "outputs": [
    {
     "name": "stdout",
     "output_type": "stream",
     "text": [
      "Bit Error Rate: 0.0859375\n"
     ]
    }
   ],
   "source": [
    "BER_MF = (header != filteredBits[:8*16]).sum()/len(header)\n",
    "print(\"Bit Error Rate: {0!s}\".format(BER_MF))"
   ]
  },
  {
   "cell_type": "markdown",
   "metadata": {
    "slideshow": {
     "slide_type": "fragment"
    }
   },
   "source": [
    "Lo que claramente produce una menor tasa de bits errados."
   ]
  },
  {
   "cell_type": "markdown",
   "metadata": {
    "slideshow": {
     "slide_type": "slide"
    }
   },
   "source": [
    "## Comparación entre señales:"
   ]
  },
  {
   "cell_type": "markdown",
   "metadata": {
    "slideshow": {
     "slide_type": "fragment"
    }
   },
   "source": [
    "Dado que disponemos de ambas señales, podemos ver por ejemplo en cuanto difieren:"
   ]
  },
  {
   "cell_type": "code",
   "execution_count": 22,
   "metadata": {
    "slideshow": {
     "slide_type": "fragment"
    }
   },
   "outputs": [
    {
     "name": "stdout",
     "output_type": "stream",
     "text": [
      "Bits distintos: 481\n"
     ]
    }
   ],
   "source": [
    "bitsDistintos = (filteredBitsApprox != filteredBits).sum()\n",
    "print(\"Bits distintos:\",bitsDistintos)"
   ]
  },
  {
   "cell_type": "markdown",
   "metadata": {
    "slideshow": {
     "slide_type": "subslide"
    }
   },
   "source": [
    "Y dado que en este caso conocemos la señal original podemos comparar las 3:"
   ]
  },
  {
   "cell_type": "code",
   "execution_count": 23,
   "metadata": {
    "slideshow": {
     "slide_type": "fragment"
    }
   },
   "outputs": [
    {
     "name": "stdout",
     "output_type": "stream",
     "text": [
      "Bits errados en la señal con filtro LP: 509\n",
      "Bits errados en la señal con filtro MF: 138\n"
     ]
    }
   ],
   "source": [
    "print('Bits errados en la señal con filtro LP: {0!s}'.format((bits != filteredBitsApprox).sum()))\n",
    "print('Bits errados en la señal con filtro MF: {0!s}'.format((bits != filteredBits).sum()))"
   ]
  },
  {
   "cell_type": "markdown",
   "metadata": {
    "slideshow": {
     "slide_type": "fragment"
    }
   },
   "source": [
    "Finalmente resulta evidente la menor tasa de bits errados con los métodos óptimos de detección estudiados."
   ]
  },
  {
   "cell_type": "code",
   "execution_count": null,
   "metadata": {
    "slideshow": {
     "slide_type": "skip"
    }
   },
   "outputs": [],
   "source": []
  }
 ],
 "metadata": {
  "kernelspec": {
   "display_name": "Python 3",
   "language": "python",
   "name": "python3"
  },
  "language_info": {
   "codemirror_mode": {
    "name": "ipython",
    "version": 3
   },
   "file_extension": ".py",
   "mimetype": "text/x-python",
   "name": "python",
   "nbconvert_exporter": "python",
   "pygments_lexer": "ipython3",
   "version": "3.7.1"
  }
 },
 "nbformat": 4,
 "nbformat_minor": 2
}
